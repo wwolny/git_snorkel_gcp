{
 "cells": [
  {
   "cell_type": "code",
   "execution_count": 3,
   "outputs": [],
   "source": [
    "import pandas as pd \n",
    "import xml.etree.ElementTree as et \n",
    "\n",
    "xtree = et.parse(\"/home/wojtek/4Semantics/Tutorials/Snorkel/snorkel-tutorials/spam/pelcra_sp_2/720-3-PELCRA_72030100003803/text_structure.xml\")\n",
    "xroot = xtree.getroot() "
   ],
   "metadata": {
    "collapsed": false,
    "pycharm": {
     "name": "#%%\n",
     "is_executing": false
    }
   }
  },
  {
   "cell_type": "code",
   "execution_count": 4,
   "metadata": {
    "pycharm": {
     "is_executing": false
    }
   },
   "outputs": [
    {
     "data": {
      "text/plain": "'TEI'"
     },
     "metadata": {},
     "output_type": "execute_result",
     "execution_count": 4
    }
   ],
   "source": [
    "xroot.tag"
   ]
  },
  {
   "cell_type": "code",
   "execution_count": 5,
   "metadata": {
    "pycharm": {
     "is_executing": false
    }
   },
   "outputs": [
    {
     "data": {
      "text/plain": "{}"
     },
     "metadata": {},
     "output_type": "execute_result",
     "execution_count": 5
    }
   ],
   "source": [
    "xroot.attrib"
   ]
  },
  {
   "cell_type": "code",
   "execution_count": 8,
   "metadata": {
    "scrolled": false,
    "pycharm": {
     "is_executing": false
    }
   },
   "outputs": [
    {
     "name": "stdout",
     "text": [
      "desc {'topic': 'rozmawia przez telefon'}\ntalk {'speak': 'ja o piątej rano poszłam spać'}\n]n\ntalk {'speak': 'to ja ci przeleję a jej powiem że ten znaczy ja jej zresztą powiedziałam że to jest że to od nas obu i że tamto żeby nie było wiesz że ona tak'}\n]n\ntalk {'speak': 'tak nie nie no że wtedy razem byłyśmy i tyle załatwiam tak że wiesz'}\n]n\ntalk {'speak': 'albo nawet jej zostawić gdzieś wiesz może nic nie mówić zostawić gdzieś nie wiem to jak uznasz a potem powiedzieć'}\n]n\ntalk {'speak': 'no a potem zadzwonić'}\n]n\ntalk {'speak': 'no a tak czy owak tak zrobić Aneczka wiesz co ja nie bardzo mam jak teraz rozmawiać pogadajmy sobie jakoś na spokojnie później co ale ale w ogóle jesteście a a jak było wczoraj? jak dzisiaj? znaczy dzisiaj to jechaliście a wczoraj jak?'}\n]n\ntalk {'speak': 'bo dzisiaj już nigdzie nie dzisiaj już nigdzie nie wchodziliście co ty masz katar?'}\n]n\ntalk {'speak': 'nie nie'}\n]n\ntalk {'speak': 'dzisiaj już nigdzie nie nie'}\n]n\ntalk {'speak': 'namaluję ci chcę namalować'}\n]n\ntalk {'speak': 'dobra zaraz Aniu wiesz co nie bardzo mam jak rozmawiać wiesz'}\n]n\ntalk {'speak': 'chcę namalować pająka'}\n]n\ntalk {'speak': 'mm chcę namalować pająka'}\n]n\ntalk {'speak': 'cieszę się że wróciliście w porządku i że wszystko jest dobrze naprawdę ej Stasiu no Jezus! no już pogniotłeś no'}\n]n\ntalk {'speak': 'Aniu nie mogę przepraszam cię to ja ci przeleję dzisiaj dobra? no pa pa pa pa pa'}\n]n\ntalk {'speak': 'Mikołajek'}\n]n\ntalk {'speak': 'i co tam będziesz przelewać?'}\n]n\ntalk {'speak': 'pieniądze na działkę bo miałam babci zostawić i zapomniałam wiesz'}\n]n\ntalk {'speak': 'dobrze'}\n]n\ntalk {'speak': 'aha'}\n]n\ndesc {'topic': 'zaczyna czytać z książki dla dzieci'}\ntalk {'speak': 'rośnie Zosia rośnie Stasiek rośnie Mikołajek'}\n]n\ntalk {'speak': 'żeby dzieci dobrze rosły potrzebują bajek'}\n]n\ntalk {'speak': 'dziadek zeszyt wziął do ręki babcie zamyślone'}\n]n\ntalk {'speak': 'i jeść!'}\n]n\ntalk {'speak': 'przewracają'}\n]n\ntalk {'speak': 'i jeść potrzebują!'}\n]n\ntalk {'speak': 'jeść przewracją białe kartki by pracę wykonać'}\n]n\ntalk {'speak': 'bajeczki dla dzieci to poważny temat'}\n]n\ntalk {'speak': 'maluchy teraz mądre i tu jest dylemat'}\n]n\ntalk {'speak': 'znają już na pamięć bajki z dawnych lat'}\n]n\ntalk {'speak': 'mamo! nie! dajcie mi pić! dajcie mi pić'}\n]n\ntalk {'speak': 'dasz mu pić?'}\n]n\ntalk {'speak': 'pić już dobrze'}\n]n\ntalk {'speak': 'i co rośnie Zosia rośnie a Staś'}\n]n\ntalk {'speak': 'ale wodę Staś?'}\n]n\ntalk {'speak': 'tak rośnie Zosia'}\n]n\ntalk {'speak': 'nie nie wodę!'}\n]n\ntalk {'speak': 'a co?'}\n]n\ntalk {'speak': 'a co?'}\n]n\ntalk {'speak': 'a soczek wodowy?'}\n]n\ntalk {'speak': 'czekaj daj mi jeszcze te na chwi'}\n]n\ntalk {'speak': 'nie nie nie nie'}\n]n\ntalk {'speak': 'a co?'}\n]n\ntalk {'speak': 'nie'}\n]n\ntalk {'speak': 'ale co?'}\n]n\ntalk {'speak': 'to co byś chciał do picia?'}\n]n\ntalk {'speak': 'to o'}\n]n\ntalk {'speak': 'co?'}\n]n\ntalk {'speak': 'to ten soczek w tym tam w tam'}\n]n\ntalk {'speak': 'który?'}\n]n\ntalk {'speak': 'wodowy wodowy'}\n]n\ntalk {'speak': 'ten?'}\n]n\ntalk {'speak': 'ten wodowy'}\n]n\ntalk {'speak': 'mm no'}\n]n\ntalk {'speak': 'w składzie to jest fatalnie zrobione ale co ja zrobię?'}\n]n\ndesc {'topic': 'ogląda książkę z wierszykami dla dzieci'}\ntalk {'speak': 'i tak mi się udało no. ja to się wycofałam wiesz zrobiłam co mogłam i się wycofałam'}\n]n\ntalk {'speak': 'o przeczytam ci coś'}\n]n\ntalk {'speak': 'tam o Onufrym mrówce ci przeczytam'}\n]n\ntalk {'speak': 'nie nie rób tego!'}\n]n\ntalk {'speak': 'nie!'}\n]n\ntalk {'speak': 'to co ci przeczytać?'}\n]n\ntalk {'speak': 'nie chcę bajki'}\n]n\ntalk {'speak': 'chcę pić'}\n]n\ntalk {'speak': 'no to tatuś ci da'}\n]n\ntalk {'speak': 'dopiero co piłeś'}\n]n\ntalk {'speak': 'mm a może małe ale co? nie chcesz tych bajek?'}\n]n\ntalk {'speak': 'one są fajne'}\n]n\ntalk {'speak': 'o to jest fajne'}\n]n\ndesc {'topic': 'czyta wierszyk o borowikach'}\ntalk {'speak': 'widzisz tu są te borowiki trzymają kapelusze grzybkom'}\n]n\ndesc {'topic': 'pokazuje obrazek w książce'}\ntalk {'speak': 'nie to są muchomory!'}\n]n\ntalk {'speak': 'o odda im odda im wod dę'}\n]n\ntalk {'speak': 'od odda im wiosną'}\n]n\ntalk {'speak': 'no całkiem fajne nie?'}\n]n\ntalk {'speak': 'ale wiosna im odda!'}\n]n\ntalk {'speak': 'no pewnie'}\n]n\ntalk {'speak': 'kto im odda?'}\n]n\ntalk {'speak': 'wiosna'}\n]n\ntalk {'speak': 'wiosna'}\n]n\ntalk {'speak': 'a tu jest o dżdżownicy i o winniczku! ślimaku!'}\n]n\ntalk {'speak': 'nie to nie jest nic'}\n]n\ntalk {'speak': 'nie chcę malować nie chcecie malować'}\n]n\ntalk {'speak': 'to te ja też nie będę chciał'}\n]n\ntalk {'speak': 'a co jeszcze? ci przeczytać'}\n]n\ntalk {'speak': 'a chcesz coś jeszcze zjeść?'}\n]n\ntalk {'speak': 'nie idę spać'}\n]n\ntalk {'speak': 'już spać dobra'}\n]n\ntalk {'speak': 'dobra'}\n]n\ntalk {'speak': 'o to jest też dobre o żabie zobacz jaka żaba'}\n]n\ntalk {'speak': 'chcę mleczka'}\n]n\ntalk {'speak': 'tak'}\n]n\ntalk {'speak': 'mogę cię przytulić?'}\n]n\ndesc {'topic': 'mama całuje dziecko'}\ntalk {'speak': 'no nie cału ja chcę się przytulić'}\n]n\ntalk {'speak': 'mm rośnie Zosia rośnie Stasiek rośnie Mikołajek'}\n]n\ntalk {'speak': 'żeby dzieci dobrze rosły potrzebują bajek! tak?'}\n]n\ntalk {'speak': 'to jestem ja'}\n]n\ntalk {'speak': 'tak! to ty!'}\n]n\ntalk {'speak': 'nie no nie twarz to się nie zmieniła tylko tylko fryzura trochę inna'}\n]n\ndesc {'topic': 'oglądają zdjęcie w książce'}\ntalk {'speak': 'kto to powie że to było dziesięć lat temu?'}\n]n\ntalk {'speak': 'dziesięć aż?'}\n]n\ntalk {'speak': 'no tutaj wyglądam to było do dyplomu robione to dwadzieścia cztery lata miałam'}\n]n\ntalk {'speak': 'do dyplomu tego tego?'}\n]n\ntalk {'speak': 'a to to co ci się nie podobało?'}\n]n\ntalk {'speak': 'nie to mi się podobało do tego drugiego mi się nie podobało'}\n]n\ntalk {'speak': 'do do do tego'}\n]n\ntalk {'speak': 'historycznego'}\n]n\ntalk {'speak': 'tu jeszcze jest o babciach latających'}\n]n\ntalk {'speak': 'ojejku która'}\n]n\ntalk {'speak': 'no'}\n]n\ntalk {'speak': 'Staś tu ozdobił trochę ścianę'}\n]n\ntalk {'speak': 'da mamo!'}\n]n\ntalk {'speak': 'dasz mi książkę o chochlikach?'}\n]n\ntalk {'speak': 'dam ci'}\n]n\ntalk {'speak': 'widzisz dwa są'}\n]n\ntalk {'speak': 'a wiesz że się znalazła ta książka o parzyku?'}\n]n\ntalk {'speak': 'gdzie była?'}\n]n\ntalk {'speak': 'no chyba była tam jakoś w tym tam'}\n]n\ntalk {'speak': 'no dobrze o tu jest jeszcze fajne o biedronce zobacz'}\n]n\ntalk {'speak': 'nie to!'}\n]n\ntalk {'speak': 'no nie wiem tutaj jakby z wersyfikacją z podziałem na strofy zrobili co chcieli no ale'}\n]n\ntalk {'speak': 'ale najlepszy jest wierszyk jaki?'}\n]n\ntalk {'speak': 'rośnie Zosia rośnie Stasiek rośnie Mikołajek! żeby dzieci dobrze rosły potrzebują bajek!'}\n]n\ntalk {'speak': 'jeść!'}\n]n\ntalk {'speak': 'jeść też'}\n]n\ntalk {'speak': 'ja chcę'}\n]n\ntalk {'speak': 'no dobra ty chyba już idziesz spać'}\n]n\ntalk {'speak': 'nie! nie!'}\n]n\ntalk {'speak': 'chcesz jeszcze obejrzeć?'}\n]n\ntalk {'speak': 'daj mi tą książkę!'}\n]n\ntalk {'speak': 'o chochlikach'}\n]n\ntalk {'speak': 'tą nie'}\n]n\ndesc {'topic': 'w tle płacz młodszego dziecka'}\ntalk {'speak': 'no dobrze'}\n]n\ntalk {'speak': 'o o'}\n]n\ntalk {'speak': 'no i co? co zrobimy?'}\n]n\ntalk {'speak': 'no wiesz'}\n]n\ntalk {'speak': 'a gdzie jest? a gdzie jest?'}\n]n\ntalk {'speak': 'trzeba by umyć tą butelkę'}\n]n\ntalk {'speak': 'a gdzie jest? a gdzie jest to?'}\n]n\ntalk {'speak': 'ale pójdziesz do niej?'}\n]n\ntalk {'speak': 'pójdę pójdę'}\n]n\ntalk {'speak': 'a gdzie jest strażacy zjeżdżają?'}\n]n\ntalk {'speak': 'ci cicho Staś spokojnie spokojnie'}\n]n\ntalk {'speak': 'a gdzie strażacy zjeżdżają?'}\n]n\ntalk {'speak': 'no zaraz ci ich znajdę'}\n]n\ntalk {'speak': 'no tu o widzę że tu zostało ozdobione'}\n]n\ndesc {'topic': 'pokazuje postaci w książce porysowane zielonym mazakiem'}\ntalk {'speak': 'oni coś zjedli'}\n]n\ntalk {'speak': 'co oni zjedli? i są tacy ziele zie leni'}\n]n\ntalk {'speak': 'tak? zzielenieli'}\n]n\ntalk {'speak': 'może się otruli tym czymś co zjedli'}\n]n\ntalk {'speak': 'nie nie to nie było trujące to była galaretka liściowa'}\n]n\ntalk {'speak': 'galaretka liściowa?'}\n]n\ntalk {'speak': 'yhm'}\n]n\ntalk {'speak': 'a tobie zrobić mleczko Staś?'}\n]n\ntalk {'speak': 'nie'}\n]n\ntalk {'speak': 'to przecież są paroby dymne'}\n]n\ntalk {'speak': 'co co co?'}\n]n\ntalk {'speak': 'to są paroby dymne'}\n]n\ntalk {'speak': 'paroby dymne aha'}\n]n\ntalk {'speak': 'ale one są duże czy małe?'}\n]n\ntalk {'speak': 'one są duże i małe'}\n]n\ntalk {'speak': 'naraz?'}\n]n\ntalk {'speak': 'ten jest pierwszy chyba'}\n]n\ntalk {'speak': 'uu uu uusz'}\n]n\ntalk {'speak': 'nie umyli się!'}\n]n\ntalk {'speak': 'kto się nie umył?'}\n]n\ntalk {'speak': 'strażacy ej oni mają czapki'}\n]n\ntalk {'speak': 'co mają?'}\n]n\ntalk {'speak': 'oni mają czapki'}\n]n\ntalk {'speak': 'jakie czapki?'}\n]n\ntalk {'speak': 'takie bo nie bo ptaszki'}\n]n\ntalk {'speak': 'wzorki to jest wzór to jest wzór'}\n]n\ndesc {'topic': 'mówi do siebie oglądając książkę>'}\ntalk {'speak': 'co co co?'}\n]n\ntalk {'speak': 'to są'}\n]n\ntalk {'speak': 'Beata!'}\n]n\ndesc {'topic': 'wychodzi'}\ntalk {'speak': 'a a!'}\n]n\ntalk {'speak': 'nadchodzi łobuziak'}\n]n\ntalk {'speak': 'tu się trochę zamoczyły te chochliki'}\n]n\ntalk {'speak': 'co się stało?'}\n]n\ntalk {'speak': 'zaczął padać deszcz!'}\n]n\ntalk {'speak': 'zaczął padać deszcz'}\n]n\ntalk {'speak': 'i od tego wszystko zrobiło się mokre'}\n]n\ntalk {'speak': 'wszyscy muszą iść do domu'}\n]n\ntalk {'speak': 'oni chyba są urodziny strażaków!'}\n]n\ntalk {'speak': 'yhm'}\n]n\ntalk {'speak': 'hej ci te strażacy mają czapki'}\n]n\ntalk {'speak': 'no ale to chyba dlatego że to są chochliki wiesz?'}\n]n\ntalk {'speak': 'to są strażacy!'}\n]n\ntalk {'speak': 'one wszystkie mają czapki'}\n]n\ntalk {'speak': 'ale to chyba to są strażacy'}\n]n\ntalk {'speak': 'to są strażacy'}\n]n\ntalk {'speak': 'no tak'}\n]n\ntalk {'speak': 'a one mają czapki'}\n]n\ntalk {'speak': 'yhm yhm'}\n]n\ntalk {'speak': 'gaśnica!'}\n]n\ntalk {'speak': 'tu są'}\n]n\ndesc {'topic': 'kicha'}\ntalk {'speak': 'ojejku'}\n]n\ntalk {'speak': 'podar'}\n]n\ntalk {'speak': 'o nie! moja książeczka'}\n]n\ndesc {'topic': 'książka spada dziecku na podłogę'}\ntalk {'speak': 'dzięki'}\n]n\ntalk {'speak': 'proszę proszę'}\n]n\ntalk {'speak': 'a tu olu szadu!'}\n]n\ntalk {'speak': 'nim ugasi pożar'}\n]n\ntalk {'speak': 'są strażacy łani hen'}\n]n\ntalk {'speak': 'a nie chcesz mleczka na pewno?'}\n]n\ntalk {'speak': 'nie'}\n]n\ntalk {'speak': 'to co będziemy zaraz myli ząbki chyba?'}\n]n\ntalk {'speak': 'nie'}\n]n\ntalk {'speak': 'a co?'}\n]n\ntalk {'speak': 'jak to nie będziemy myli ząbków?'}\n]n\ntalk {'speak': 'ale trzeba umyć'}\n]n\ntalk {'speak': 'o jezus a se założę'}\n]n\ntalk {'speak': 'ale doleci'}\n]n\ntalk {'speak': 'to chyba ale te strażacy mają czapki'}\n]n\ntalk {'speak': 'no no mają'}\n]n\ntalk {'speak': 'to chyba nie chochliki'}\n]n\ntalk {'speak': 'a to jest gaśnica'}\n]n\ntalk {'speak': 'co to jest ten co ma ten prowadzik?'}\n]n\ntalk {'speak': 'pokaż to'}\n]n\ndesc {'topic': 'patrzy na rysunek w książce'}\ntalk {'speak': 'to jest siekiera'}\n]n\ntalk {'speak': 'to nie jest siekiera to jest siekiera'}\n]n\ntalk {'speak': 'nie to jest kilof'}\n]n\ntalk {'speak': 'nie to jest siekiera to jest ta piła'}\n]n\ntalk {'speak': 'no tak no to po co mnie pytasz jak lepiej wiesz co?'}\n]n\ntalk {'speak': 'to jest piła'}\n]n\ntalk {'speak': 'yhm piła inaczej wygląda'}\n]n\ntalk {'speak': 'to jest piła taka'}\n]n\ntalk {'speak': 'tak tak'}\n]n\ntalk {'speak': 'to jest piła'}\n]n\ntalk {'speak': 'krowa to piękny ptak'}\n]n\ntalk {'speak': 'nie! krowa to jest krowa to ssak!'}\n]n\ntalk {'speak': 'yhm co ty nie powiesz?'}\n]n\ntalk {'speak': 'ale to jest ta piła'}\n]n\ntalk {'speak': 'yhm'}\n]n\ntalk {'speak': 'tak tak a ja jestem babcia Krysia'}\n]n\ntalk {'speak': 'nie! ty jesteś tatą aa'}\n]n\ntalk {'speak': 'no'}\n]n\ntalk {'speak': 'a tu taki guzik'}\n]n\ntalk {'speak': 'jaki guzik?'}\n]n\ntalk {'speak': 'tutaj! przy którym można'}\n]n\ntalk {'speak': 'którym się nacis jakiś go nacisnął żeby lecieć woda wyleciała'}\n]n\ntalk {'speak': 'poczekaj'}\n]n\ntalk {'speak': 'dobra tak'}\n]n\ntalk {'speak': 'i tak ci cich'}\n]n\ntalk {'speak': 'a tu tak ci ci cich jak się włącza woda to to się ci ci cich'}\n]n\ntalk {'speak': 'a tu dy dym a tu jest dym'}\n]n\ntalk {'speak': 'a tutaj strażacy mają czapki'}\n]n\ntalk {'speak': 'to chyba nie chochliki to chyba strażacy'}\n]n\ntalk {'speak': 'yhm'}\n]n\ntalk {'speak': 'a to gaśnica!'}\n]n\ntalk {'speak': 'gdzie jest gaśnica?'}\n]n\ntalk {'speak': 'tu! tu jest gaśnica!'}\n]n\ntalk {'speak': 'a no tu masz rację to jest gaśnica niewątpliwie'}\n]n\ntalk {'speak': 'potrzebują ją strażacy masz rację to jest gaśnica'}\n]n\ntalk {'speak': 'żeby użyć gaśnicę'}\n]n\ntalk {'speak': 'no dobrze dobrze'}\n]n\ntalk {'speak': 'to też jest gaśnica'}\n]n\ntalk {'speak': 'no dobrze to zaraz tam przyjdę tylko zrobię to mleko'}\n]n\ntalk {'speak': 'chcę żeby z niej przyda się woda'}\n]n\ntalk {'speak': 'co? co?'}\n]n\ntalk {'speak': 'nic nic z tej gaśnicy jest rozłączona'}\n]n\ntalk {'speak': 'yhm'}\n]n\ntalk {'speak': 'to jest gaśnica!'}\n]n\ntalk {'speak': 'to jest gaśnica!'}\n]n\ntalk {'speak': 'to jest gaśnica! a!'}\n]n\ntalk {'speak': 'to jest gaśnica'}\n]n\ntalk {'speak': 'to jest gaśnica'}\n]n\ntalk {'speak': 'to jest ga'}\n]n\ntalk {'speak': 'uważaj niego'}\n]n\ntalk {'speak': 'co Staś?'}\n]n\ntalk {'speak': 'a tu kapitan straży!'}\n]n\ntalk {'speak': 'a tu kapitan straży pożarnej!'}\n]n\ntalk {'speak': 'ten ten straży to są beczkowcy'}\n]n\ntalk {'speak': 'no dobra'}\n]n\ntalk {'speak': 'to są becz! kowcy! ugaszają oni tu są beczkowcy to jest beczkow to jest beczkow i to też jest beczkow'}\n]n\ntalk {'speak': 'ta piła'}\n]n\ntalk {'speak': 'i ta siekierka ż potrzebują ją żeby wbijać kamyki to potrzebują żeby rąbać drzewa'}\n]n\ntalk {'speak': 'potrzebują łopatę'}\n]n\ntalk {'speak': 'no tu jest'}\n]n\ntalk {'speak': 'zgasili tę'}\n]n\ntalk {'speak': 'tę tę'}\n]n\ntalk {'speak': 'tata ooo!'}\n]n\ntalk {'speak': 'co się stało? Staś! nie krzycz tak'}\n]n\ntalk {'speak': 'co się stało? co chcesz?'}\n]n\ntalk {'speak': 'namaluję pająka'}\n]n\ntalk {'speak': 'tu?'}\n]n\ntalk {'speak': 'nie na kartce'}\n]n\ntalk {'speak': 'ale wiesz co Staś jest już prawie dziesiąta'}\n]n\ntalk {'speak': 'dobra Juruniu to weź tu pościel dobrze?'}\n]n\ntalk {'speak': 'Staniu wiesz co już jest trochę za późno na malowanie pająków'}\n]n\ntalk {'speak': 'nie nie nie za późno'}\n]n\ntalk {'speak': 'tato chcę stąd w już wyjść'}\n]n\ntalk {'speak': 'wszystko zamo przez de'}\n]n\ntalk {'speak': 'daj mi mazak! namaluję pająka'}\n]n\ntalk {'speak': 'aa aa aa'}\n]n\ntalk {'speak': 'tato!'}\n]n\ntalk {'speak': 'Stasiu ale cicho bo ona śpi'}\n]n\ntalk {'speak': 'tato! tato tato tato'}\n]n\ntalk {'speak': 'no'}\n]n\ntalk {'speak': 'ty jesteś'}\n]n\ntalk {'speak': 'no jestem'}\n]n\ntalk {'speak': 'tu jesteś tu jesteś'}\n]n\ntalk {'speak': 'no tu jestem'}\n]n\ntalk {'speak': 'ja chcę mleczka'}\n]n\ntalk {'speak': 'słucham?'}\n]n\ntalk {'speak': 'nie chcę mleczka'}\n]n\ntalk {'speak': 'nie chcesz czy chcesz?'}\n]n\ntalk {'speak': 'o teraz chcę mleczko'}\n]n\ntalk {'speak': 'jesteś niemożliwy'}\n]n\ntalk {'speak': 'dobra to już do łóżeczka proszę'}\n]n\ntalk {'speak': 'chcę mleczko'}\n]n\ntalk {'speak': 'no dobrze'}\n]n\ntalk {'speak': 'ale to ja muszę zagotować wodę bo nie ma już gorącej wody'}\n]n\ntalk {'speak': 'coś mówiłaś?'}\n]n\ntalk {'speak': 'bo dzwoni a bym sobie podładowała a ty gdzieś mi położyłeś'}\n]n\ntalk {'speak': 'tak tak tam położyłem'}\n]n\ndesc {'topic': 'dziecko głośno wydmuchuje powietrze, ojciec je naśladuje'}\ntalk {'speak': 'ej ty Staniu'}\n]n\ntalk {'speak': 'coś oni zjedli'}\n]n\ntalk {'speak': 'to środek lata'}\n]n\ntalk {'speak': 'możesz mi po możesz mnie polizać dać?'}\n]n\ntalk {'speak': 'ale masz fajnego robota na tym tym na tej koszulce widziałeś?'}\n]n\ntalk {'speak': 'to nie jest robot'}\n]n\ntalk {'speak': 'a co to jest?'}\n]n\ntalk {'speak': 'to jest termit'}\n]n\ntalk {'speak': 'co?'}\n]n\ntalk {'speak': 'to jest staroć'}\n]n\ntalk {'speak': 'staroć?'}\n]n\ntalk {'speak': 'taki stary robot'}\n]n\ntalk {'speak': 'stary robot?'}\n]n\ntalk {'speak': 'mocno śpi'}\n]n\ntalk {'speak': 'co śpi?'}\n]n\ntalk {'speak': 'stary robot mocno śpi'}\n]n\ntalk {'speak': 'aha'}\n]n\ntalk {'speak': 'mamo!'}\n]n\ntalk {'speak': 'zaraz mama przyjdzie spokojnie'}\n]n\ntalk {'speak': 'kuku!'}\n]n\ntalk {'speak': 'ale nie Staś'}\n]n\ntalk {'speak': 'kuku!'}\n]n\ntalk {'speak': 'nie wrzeszczymy'}\n]n\ntalk {'speak': 'Staś'}\n]n\ntalk {'speak': 'no a co ty tu właściwie robisz? ty już powinieneś dawno spać!'}\n]n\ntalk {'speak': 'uu! chcę mleczko'}\n]n\ntalk {'speak': 'on chce mleczko no zrobię mu'}\n]n\ntalk {'speak': 'a kuku!'}\n]n\ntalk {'speak': 'ale Staś nie już cicho bądź!'}\n]n\ntalk {'speak': 'tu jest kura maruda zobacz zupełnie jak Staś zobacz'}\n]n\ntalk {'speak': 'co jak?'}\n]n\ntalk {'speak': 'kura maruda słuchaj Stasiu to o tobie chyba'}\n]n\ntalk {'speak': 'kuku!'}\n]n\ntalk {'speak': 'nie pyszne jajko zniesiesz!'}\n]n\ntalk {'speak': 'to nie są chochliki przecież!'}\n]n\ntalk {'speak': 'a tu obudzają strażaków'}\n]n\ntalk {'speak': 'tu jest gaśnica'}\n]n\ntalk {'speak': 'nasz ryb to jest gaśnica!'}\n]n\ntalk {'speak': 'aa!'}\n]n\ntalk {'speak': 'to jest też gaśnica!'}\n]n\ntalk {'speak': 'o to jest fajne to Basi Wierzbickiej też'}\n]n\ntalk {'speak': 'zaraz zaraz kto z kim rozmawiał?'}\n]n\ntalk {'speak': 'ogórek z porem'}\n]n\ntalk {'speak': 'do ogórka o wyższości ogórka nad porem'}\n]n\ntalk {'speak': 'aha'}\n]n\ntalk {'speak': 'nie'}\n]n\ntalk {'speak': 'a mam cię!'}\n]n\ndesc {'topic': 'ojciec ziewa'}\ntalk {'speak': 'daj mi chcę mleczka'}\n]n\ntalk {'speak': 'a to coś dla Stasia weź wyłącz'}\n]n\ntalk {'speak': 'no zaraz'}\n]n\ntalk {'speak': 'no tak tu w sumie. dali spis treści'}\n]n\ntalk {'speak': 'aha'}\n]n\ntalk {'speak': 'chcę mleczko'}\n]n\ntalk {'speak': 'co chcesz? no już zaraz ten'}\n]n\ntalk {'speak': 'no no'}\n]n\ntalk {'speak': 'o matko'}\n]n\ntalk {'speak': 'chcę mleczko takie mi'}\n]n\ntalk {'speak': 'ale już się studzi woda na to mleczko'}\n]n\ndesc {'topic': 'dziecku spada książeczka'}\ntalk {'speak': 'a!'}\n]n\ntalk {'speak': 'podniesiesz mu?'}\n]n\ntalk {'speak': 'a!'}\n]n\ntalk {'speak': 'ałełełełełełełełełełełe łełełełełełełełełełełe'}\n]n\ntalk {'speak': 'nie nie chcę nie chcę'}\n]n\ntalk {'speak': 'no to nie'}\n]n\ntalk {'speak': 'o! a to jakie ładne'}\n]n\ntalk {'speak': 'smoki?'}\n]n\ntalk {'speak': 'smoki'}\n]n\ntalk {'speak': 'a smok sz'}\n]n\ntalk {'speak': 'sz'}\n]n\ntalk {'speak': 'tu jest wiersz Zenona poprawiany przeze mnie'}\n]n\ntalk {'speak': 'nie! nie czytaj!'}\n]n\ntalk {'speak': 'to nie czytam to tacie czytam ty nie słuchaj nie'}\n]n\ntalk {'speak': 'nie nie czytaj! nie czytaj!'}\n]n\ntalk {'speak': 'no nie słuchaj mówię'}\n]n\ntalk {'speak': 'nie masz wcale czytać'}\n]n\ntalk {'speak': 'nie?'}\n]n\ntalk {'speak': 'nie możesz'}\n]n\ntalk {'speak': 'oj Stasiu Stasiu!'}\n]n\ntalk {'speak': 'oj Stasiu Stasiu! opanuj się'}\n]n\ntalk {'speak': 'a! tu jest to mleczko'}\n]n\ntalk {'speak': 'zaraz będziesz miał mleczko'}\n]n\ntalk {'speak': 'chcę stąd wyjść!'}\n]n\ntalk {'speak': 'no to wyjdziesz zaraz cię mama wyjmie'}\n]n\ntalk {'speak': 'wyjmiesz go?'}\n]n\ntalk {'speak': 'yhm'}\n]n\ntalk {'speak': 'o Jezus trochę jestem padnięty'}\n]n\ntalk {'speak': 'w sumie dzisiaj jedną godzinę spałem może dlatego? a nie jakoś więcej'}\n]n\ntalk {'speak': 'tak w codziennym życiu to nam się raczej przyda bardziej tam ta książeczka'}\n]n\ntalk {'speak': 'to ja chciałem wymieszać łyżeczką! łe!'}\n]n\ntalk {'speak': 'no to proszę'}\n]n\ntalk {'speak': 'nie już nie chcę'}\n]n\ntalk {'speak': 'no to nie tak nie nie chcesz? no dobrze no to nie'}\n]n\ntalk {'speak': 'nie no fajna jest ta książka no w sumie się cieszę'}\n]n\ntalk {'speak': 'co mówisz?'}\n]n\ntalk {'speak': 'no w sumie się cieszę chociaż dużo mnie to kosztowało pracy'}\n]n\ntalk {'speak': 'no Staniu jest dziesiąta pijesz mleczko'}\n]n\ntalk {'speak': 'nie'}\n]n\ntalk {'speak': 'myjesz ząbki'}\n]n\ntalk {'speak': 'nie'}\n]n\ntalk {'speak': 'i lulu'}\n]n\ntalk {'speak': 'nie chcę dziś myć ząbków'}\n]n\ntalk {'speak': 'co?!'}\n]n\ntalk {'speak': 'nie nie'}\n]n\ntalk {'speak': 'jak to nie? co to w ogóle znaczy? proszę Stasiu'}\n]n\ntalk {'speak': 'nie nie nie myję'}\n]n\ntalk {'speak': 'słyszałaś to?'}\n]n\ntalk {'speak': 'co ja słyszę?'}\n]n\ntalk {'speak': 'nie chcę dziś myć zębów'}\n]n\ntalk {'speak': 'niemożliwe ktoś nam podmienił Stasia naszego grzecznego Stasia'}\n]n\ntalk {'speak': 'naszego bardzo grzecznego Stasia'}\n]n\ntalk {'speak': 'naszego najgrzeczniejszego na świecie chłopca niemożliwe'}\n]n\ntalk {'speak': 'Staszek'}\n]n\ntalk {'speak': 'on jest taki grzeczny malutki'}\n]n\ntalk {'speak': 'oj Staszek!'}\n]n\ntalk {'speak': 'i co on? zębów nie myje?'}\n]n\ntalk {'speak': 'nie myjmy dziś'}\n]n\ndesc {'topic': 'pokazuje na kanapkę, którą je matka'}\ntalk {'speak': 'a co to jest?'}\n]n\ntalk {'speak': 'no chapnij sobie troszkę to nie jest miodek tylko to jest chlebek'}\n]n\ntalk {'speak': 'chciałem suchy prowiant'}\n]n\ntalk {'speak': 'masz'}\n]n\ntalk {'speak': 'to też jest suchy prowiant?'}\n]n\ntalk {'speak': 'yhm'}\n]n\ntalk {'speak': 'yy a ja nie lubię chlebka'}\n]n\ntalk {'speak': 'no to chcesz?'}\n]n\ntalk {'speak': 'nie nie będę'}\n]n\ntalk {'speak': 'on jest niepoważny ten chłopak'}\n]n\ntalk {'speak': 'to niech nie pije będzie na jutro'}\n]n\ntalk {'speak': 'no uff'}\n]n\ntalk {'speak': 'no uff'}\n]n\ntalk {'speak': 'co on tam? aha'}\n]n\ntalk {'speak': 'Beata wiesz tu będzie trzeba ten'}\n]n\ntalk {'speak': 'yhm'}\n]n\ntalk {'speak': 'yhm'}\n]n\ntalk {'speak': 'ale zadzwonił tak?'}\n]n\ntalk {'speak': 'to ja zadzwoniłam do nich i podziękowałam'}\n]n\ntalk {'speak': 'to co?'}\n]n\ntalk {'speak': 'rośnie Zosia rośnie Stasiek rośnie Mikołajek'}\n]n\ntalk {'speak': 'żeby dzieci zdrowo rosły potrzebują mycia zębów!'}\n]n\ntalk {'speak': 'tak? czego potrzebują?'}\n]n\ntalk {'speak': 'bajek i jedzenia'}\n]n\ntalk {'speak': 'bajek i jedzenia jesteś takim słodkim robalem!'}\n]n\ntalk {'speak': 'wyjmij mnie!'}\n]n\ntalk {'speak': 'słodkim robalem!'}\n]n\ntalk {'speak': 'i on to liże!'}\n]n\ntalk {'speak': 'robalem! potrzebujesz bajek i chleba'}\n]n\ntalk {'speak': 'mycia zębów'}\n]n\ntalk {'speak': 'dwudziesta druga dwie a ty nie śpisz najjaśniejszy panie?'}\n]n\ntalk {'speak': 'nie jestem zmęczony'}\n]n\ntalk {'speak': 'otóż nie!'}\n]n\ntalk {'speak': 'nie jestem zmęczony nie'}\n]n\ntalk {'speak': 'jesteś nieznośniakiem'}\n]n\ntalk {'speak': 'nie jestem zmę czony'}\n]n\ntalk {'speak': 'o! jak ty to robisz bo ja jestem zmęczona o!'}\n]n\ndesc {'topic': 'zaczyna łaskotać dziecko'}\ntalk {'speak': 'ale chyba nie spał Marysia nic nie mówiła'}\n]n\ntalk {'speak': 'ja go wystraszę teraz uwaga będę teraz bardzo groźna a! go nastraszyłam i pójdzie spać'}\n]n\ntalk {'speak': 'a!'}\n]n\ntalk {'speak': 'nie jestem zmęczo ny'}\n]n\ntalk {'speak': 'a królewiczu ty!'}\n]n\ndesc {'topic': 'całuje dziecko'}\ntalk {'speak': 'no już tatuś! myj mu ząbki'}\n]n\ndesc {'topic': 'nie nie myjmy dziś ze'}\ntalk {'speak': 'zęby trzeba myć i basta!'}\n]n\ntalk {'speak': 'chyba że się chce mieć sztuczną szczękę'}\n]n\ntalk {'speak': 'chciałbyś mieć sztuczną szczękę? takie sztuczne ząbki? na noc się je wkłada do szklanki'}\n]n\ntalk {'speak': 'a tu stanęłaś?'}\n]n\ntalk {'speak': 'a ja pamiętam nie no w ząbku'}\n]n\ntalk {'speak': 'w ząbku a aha'}\n]n\ntalk {'speak': 'pomoż'}\n]n\ntalk {'speak': 'w ząb w ząbku wiktorii'}\n]n\ntalk {'speak': 'pomóż mi mamo!'}\n]n\ntalk {'speak': 'wyjmij tego swojego syna'}\n]n\ntalk {'speak': 'nie!'}\n]n\ntalk {'speak': 'co? co ja słyszę?'}\n]n\ntalk {'speak': 'ty masz jeszcze jakieś żądania o dwudziestej drugiej zero cztery?'}\n]n\ntalk {'speak': 'ja nie stem zmę czony'}\n]n\ntalk {'speak': 'ale ja jestem'}\n]n\ntalk {'speak': 'ale my jesteśmy zmęczeni'}\n]n\ntalk {'speak': 'ja chcę żebyś już szedł spać mój dziubdziusiu'}\n]n\ntalk {'speak': 'ale'}\n]n\ntalk {'speak': 'zmę czyłem się'}\n]n\ntalk {'speak': 'niech ta gębusia się zamknie nie chce mleczka no ale nie wal mnie łokciem tatuś proszę bardzo'}\n]n\ntalk {'speak': 'nie chcę'}\n]n\ntalk {'speak': 'ja chcę wypić'}\n]n\ntalk {'speak': 'ja ci zaraz coś zrobię po prostu krzywdę jakąś chyba no'}\n]n\ntalk {'speak': 'za zaraz ten'}\n]n\ntalk {'speak': 'rośnie Stasiek rośnie Zosia rośnie Mikołajek'}\n]n\ntalk {'speak': 'no dobrze'}\n]n\ntalk {'speak': 'żeby dzieci zdrowo rosły potrzebują'}\n]n\ntalk {'speak': 'roś rośnie Stasiek'}\n]n\ntalk {'speak': 'rośnie teraz mi zaczęłaś Mikołajek'}\n]n\ntalk {'speak': 'rośnie Mikołajek!'}\n]n\n"
     ],
     "output_type": "stream"
    }
   ],
   "source": [
    "for child in xroot:\n",
    "    print(child.tag, child.attrib)\n",
    "    for kid in child:\n",
    "        print(kid.tag,kid.attrib)\n",
    "        print(\"]n\")\n",
    "        for baby in kid:\n",
    "            print(baby.tag,baby.attrib)"
   ]
  },
  {
   "cell_type": "code",
   "execution_count": 9,
   "metadata": {
    "pycharm": {
     "is_executing": false
    }
   },
   "outputs": [
    {
     "data": {
      "text/plain": "                    topic                                             speach  \\\n0  rozmawia przez telefon                      ja o piątej rano poszłam spać   \n1  rozmawia przez telefon  to ja ci przeleję a jej powiem że ten znaczy j...   \n2  rozmawia przez telefon  tak nie nie no że wtedy razem byłyśmy i tyle z...   \n3  rozmawia przez telefon  albo nawet jej zostawić gdzieś wiesz może nic ...   \n4  rozmawia przez telefon                               no a potem zadzwonić   \n\n   id_inTalk  \n0          0  \n1          1  \n2          2  \n3          3  \n4          4  ",
      "text/html": "<div>\n<style scoped>\n    .dataframe tbody tr th:only-of-type {\n        vertical-align: middle;\n    }\n\n    .dataframe tbody tr th {\n        vertical-align: top;\n    }\n\n    .dataframe thead th {\n        text-align: right;\n    }\n</style>\n<table border=\"1\" class=\"dataframe\">\n  <thead>\n    <tr style=\"text-align: right;\">\n      <th></th>\n      <th>topic</th>\n      <th>speach</th>\n      <th>id_inTalk</th>\n    </tr>\n  </thead>\n  <tbody>\n    <tr>\n      <th>0</th>\n      <td>rozmawia przez telefon</td>\n      <td>ja o piątej rano poszłam spać</td>\n      <td>0</td>\n    </tr>\n    <tr>\n      <th>1</th>\n      <td>rozmawia przez telefon</td>\n      <td>to ja ci przeleję a jej powiem że ten znaczy j...</td>\n      <td>1</td>\n    </tr>\n    <tr>\n      <th>2</th>\n      <td>rozmawia przez telefon</td>\n      <td>tak nie nie no że wtedy razem byłyśmy i tyle z...</td>\n      <td>2</td>\n    </tr>\n    <tr>\n      <th>3</th>\n      <td>rozmawia przez telefon</td>\n      <td>albo nawet jej zostawić gdzieś wiesz może nic ...</td>\n      <td>3</td>\n    </tr>\n    <tr>\n      <th>4</th>\n      <td>rozmawia przez telefon</td>\n      <td>no a potem zadzwonić</td>\n      <td>4</td>\n    </tr>\n  </tbody>\n</table>\n</div>"
     },
     "metadata": {},
     "output_type": "execute_result",
     "execution_count": 9
    }
   ],
   "source": [
    "df_cols = [\"topic\", \"speach\", \"id_inTalk\"]\n",
    "rows = []\n",
    "\n",
    "for desc in xroot: \n",
    "    s_topic = desc.attrib.get(\"topic\")\n",
    "    for idx, talk in enumerate(desc):\n",
    "        rows.append({\"topic\": s_topic, \"speach\": talk.attrib.get(\"speak\"), \"id_inTalk\":idx})\n",
    "\n",
    "out_df = pd.DataFrame(rows, columns = df_cols)\n",
    "out_df.head()"
   ]
  },
  {
   "cell_type": "code",
   "execution_count": 12,
   "metadata": {
    "pycharm": {
     "is_executing": false
    }
   },
   "outputs": [
    {
     "data": {
      "text/plain": "array(['rozmawia przez telefon', 'zaczyna czytać z książki dla dzieci',\n       'ogląda książkę z wierszykami dla dzieci',\n       'czyta wierszyk o borowikach', 'pokazuje obrazek w książce',\n       'mama całuje dziecko', 'oglądają zdjęcie w książce',\n       'w tle płacz młodszego dziecka',\n       'pokazuje postaci w książce porysowane zielonym mazakiem',\n       'mówi do siebie oglądając książkę>', 'wychodzi', 'kicha',\n       'książka spada dziecku na podłogę', 'patrzy na rysunek w książce',\n       'dziecko głośno wydmuchuje powietrze, ojciec je naśladuje',\n       'ojciec ziewa', 'dziecku spada książeczka',\n       'pokazuje na kanapkę, którą je matka', 'zaczyna łaskotać dziecko',\n       'całuje dziecko', 'nie nie myjmy dziś ze'], dtype=object)"
     },
     "metadata": {},
     "output_type": "execute_result",
     "execution_count": 12
    }
   ],
   "source": [
    "out_df.topic.unique()"
   ]
  },
  {
   "cell_type": "code",
   "execution_count": null,
   "metadata": {},
   "outputs": [],
   "source": [
    "    xtree = et.parse(\"/home/wojtek/4Semantics/Tutorials/Snorkel/snorkel-tutorials/spam/pelcra_sp_2/720-3-PELCRA_72030100003803/text_structure.xml\")\n",
    "    xroot = xtree.getroot() \n",
    "\n"
   ]
  },
  {
   "cell_type": "code",
   "execution_count": 13,
   "metadata": {
    "pycharm": {
     "is_executing": false
    }
   },
   "outputs": [
    {
     "data": {
      "text/plain": "     id   who  text\n0  None  None   NaN\n1  None  None   NaN\n2  None  None   NaN\n3  None  None   NaN\n4  None  None   NaN",
      "text/html": "<div>\n<style scoped>\n    .dataframe tbody tr th:only-of-type {\n        vertical-align: middle;\n    }\n\n    .dataframe tbody tr th {\n        vertical-align: top;\n    }\n\n    .dataframe thead th {\n        text-align: right;\n    }\n</style>\n<table border=\"1\" class=\"dataframe\">\n  <thead>\n    <tr style=\"text-align: right;\">\n      <th></th>\n      <th>id</th>\n      <th>who</th>\n      <th>text</th>\n    </tr>\n  </thead>\n  <tbody>\n    <tr>\n      <th>0</th>\n      <td>None</td>\n      <td>None</td>\n      <td>NaN</td>\n    </tr>\n    <tr>\n      <th>1</th>\n      <td>None</td>\n      <td>None</td>\n      <td>NaN</td>\n    </tr>\n    <tr>\n      <th>2</th>\n      <td>None</td>\n      <td>None</td>\n      <td>NaN</td>\n    </tr>\n    <tr>\n      <th>3</th>\n      <td>None</td>\n      <td>None</td>\n      <td>NaN</td>\n    </tr>\n    <tr>\n      <th>4</th>\n      <td>None</td>\n      <td>None</td>\n      <td>NaN</td>\n    </tr>\n  </tbody>\n</table>\n</div>"
     },
     "metadata": {},
     "output_type": "execute_result",
     "execution_count": 13
    }
   ],
   "source": [
    "df_cols = [\"id\", \"who\", \"text\"]\n",
    "rows = []\n",
    "\n",
    "for node in xroot: \n",
    "    s_name = node.attrib.get(\"id\")\n",
    "    s_mail = node.find(\"who\") if node is not None else None\n",
    "#     s_grade = node.find(\"text\").text if node is not None else None\n",
    "    \n",
    "    rows.append({\"id\": s_name, \"who\": s_mail})\n",
    "\n",
    "out_df = pd.DataFrame(rows, columns = df_cols)\n",
    "out_df.head()"
   ]
  },
  {
   "cell_type": "code",
   "execution_count": 5,
   "metadata": {},
   "outputs": [],
   "source": [
    "import pandas as pd\n",
    "import xml.etree.ElementTree as et\n",
    "\n",
    "def parse_XML(xml_file, df_cols): \n",
    "    \"\"\"Parse the input XML file and store the result in a pandas \n",
    "    The first element of df_cols is supposed to be the identifier \n",
    "    variable, which is an attribute of each node element in the \n",
    "    XML data; other features will be parsed from the text content \n",
    "    of each sub-element. \n",
    "    \"\"\"\n",
    "    \n",
    "    xtree = et.parse(xml_file)\n",
    "    xroot = xtree.getroot()\n",
    "    rows = []\n",
    "    \n",
    "    for node in xroot: \n",
    "        res = []\n",
    "        res.append(node.attrib.get(df_cols[0]))\n",
    "        for el in df_cols[1:]: \n",
    "            if node is not None and node.find(el) is not None:\n",
    "                res.append(node.find(el).text)\n",
    "            else: \n",
    "                res.append(None)\n",
    "        rows.append({df_cols[i]: res[i] \n",
    "                     for i, _ in enumerate(df_cols)})\n",
    "    \n",
    "    out_df = pd.DataFrame(rows, columns=df_cols)\n",
    "        \n",
    "    return out_df"
   ]
  },
  {
   "cell_type": "code",
   "execution_count": 6,
   "metadata": {},
   "outputs": [
    {
     "data": {
      "text/html": [
       "<div>\n",
       "<style scoped>\n",
       "    .dataframe tbody tr th:only-of-type {\n",
       "        vertical-align: middle;\n",
       "    }\n",
       "\n",
       "    .dataframe tbody tr th {\n",
       "        vertical-align: top;\n",
       "    }\n",
       "\n",
       "    .dataframe thead th {\n",
       "        text-align: right;\n",
       "    }\n",
       "</style>\n",
       "<table border=\"1\" class=\"dataframe\">\n",
       "  <thead>\n",
       "    <tr style=\"text-align: right;\">\n",
       "      <th></th>\n",
       "      <th>id</th>\n",
       "      <th>who</th>\n",
       "    </tr>\n",
       "  </thead>\n",
       "  <tbody>\n",
       "    <tr>\n",
       "      <th>0</th>\n",
       "      <td>None</td>\n",
       "      <td>None</td>\n",
       "    </tr>\n",
       "    <tr>\n",
       "      <th>1</th>\n",
       "      <td>None</td>\n",
       "      <td>None</td>\n",
       "    </tr>\n",
       "  </tbody>\n",
       "</table>\n",
       "</div>"
      ],
      "text/plain": [
       "     id   who\n",
       "0  None  None\n",
       "1  None  None"
      ]
     },
     "execution_count": 6,
     "metadata": {},
     "output_type": "execute_result"
    }
   ],
   "source": [
    "parse_XML(\"/home/wojtek/4Semantics/Tutorials/Snorkel/snorkel-tutorials/spam/pelcra_sp_2/720-3-PELCRA_72030100003817/text_structure.xml\", [\"id\", \"who\"])"
   ]
  },
  {
   "cell_type": "code",
   "execution_count": null,
   "metadata": {},
   "outputs": [],
   "source": []
  }
 ],
 "metadata": {
  "kernelspec": {
   "name": "4sem",
   "language": "python",
   "display_name": "4Sem"
  },
  "language_info": {
   "codemirror_mode": {
    "name": "ipython",
    "version": 3
   },
   "file_extension": ".py",
   "mimetype": "text/x-python",
   "name": "python",
   "nbconvert_exporter": "python",
   "pygments_lexer": "ipython3",
   "version": "3.7.3"
  },
  "pycharm": {
   "stem_cell": {
    "cell_type": "raw",
    "source": [],
    "metadata": {
     "collapsed": false
    }
   }
  }
 },
 "nbformat": 4,
 "nbformat_minor": 2
}